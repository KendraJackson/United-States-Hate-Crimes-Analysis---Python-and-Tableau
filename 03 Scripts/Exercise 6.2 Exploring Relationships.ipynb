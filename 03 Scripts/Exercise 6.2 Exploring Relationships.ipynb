{
 "cells": [
  {
   "cell_type": "markdown",
   "metadata": {},
   "source": [
    "# United States Hate Crime Relational Analysis"
   ]
  },
  {
   "cell_type": "markdown",
   "metadata": {},
   "source": [
    "## The following script contains:\n",
    "### 01. Importing Data\n",
    "### 02. Exploring Relationships"
   ]
  },
  {
   "cell_type": "code",
   "execution_count": 1,
   "metadata": {},
   "outputs": [],
   "source": [
    "# import libraries\n",
    "import pandas as pd \n",
    "import numpy as np\n",
    "import seaborn as sns\n",
    "import matplotlib.pyplot as plt\n",
    "import matplotlib\n",
    "import os"
   ]
  },
  {
   "cell_type": "code",
   "execution_count": 2,
   "metadata": {},
   "outputs": [
    {
     "data": {
      "text/plain": [
       "'3.2.2'"
      ]
     },
     "execution_count": 2,
     "metadata": {},
     "output_type": "execute_result"
    }
   ],
   "source": [
    "# Check matplotlib version\n",
    "matplotlib.__version__"
   ]
  },
  {
   "cell_type": "code",
   "execution_count": 3,
   "metadata": {},
   "outputs": [],
   "source": [
    "# This option ensures the charts you create are displayed in the notebook without the need to \"call\" them specifically.\n",
    "\n",
    "%matplotlib inline"
   ]
  },
  {
   "cell_type": "markdown",
   "metadata": {},
   "source": [
    "### 01. Importing Data"
   ]
  },
  {
   "cell_type": "code",
   "execution_count": 4,
   "metadata": {},
   "outputs": [],
   "source": [
    "# turn folders into string\n",
    "path = r'C:\\\\Users\\\\Jamie&Ken\\\\Desktop\\\\Data Analytics Course\\\\Advanced Analytics & Dashboard Design\\\\10-2024 American Hate Crime'\n",
    "# Import data\n",
    "df = pd.read_csv(os.path.join(path, '02 Data', 'Prepared Data', 'hate_crime_wrangled.csv'))"
   ]
  },
  {
   "cell_type": "code",
   "execution_count": 5,
   "metadata": {},
   "outputs": [
    {
     "data": {
      "text/plain": [
       "(199797, 21)"
      ]
     },
     "execution_count": 5,
     "metadata": {},
     "output_type": "execute_result"
    }
   ],
   "source": [
    "# Check import\n",
    "df.shape"
   ]
  },
  {
   "cell_type": "code",
   "execution_count": 6,
   "metadata": {},
   "outputs": [
    {
     "name": "stdout",
     "output_type": "stream",
     "text": [
      "<class 'pandas.core.frame.DataFrame'>\n",
      "RangeIndex: 199797 entries, 0 to 199796\n",
      "Data columns (total 21 columns):\n",
      " #   Column                 Non-Null Count   Dtype \n",
      "---  ------                 --------------   ----- \n",
      " 0   INCIDENT_ID            199797 non-null  int64 \n",
      " 1   DATA_YEAR              199797 non-null  int64 \n",
      " 2   ORI                    199797 non-null  object\n",
      " 3   PUB_AGENCY_NAME        199797 non-null  object\n",
      " 4   AGENCY_TYPE_NAME       199797 non-null  object\n",
      " 5   STATE_ABBR             199797 non-null  object\n",
      " 6   STATE_NAME             199797 non-null  object\n",
      " 7   DIVISION_NAME          199797 non-null  object\n",
      " 8   REGION_NAME            199797 non-null  object\n",
      " 9   POPULATION_GROUP_CODE  199797 non-null  object\n",
      " 10  POPULATION_GROUP_DESC  199797 non-null  object\n",
      " 11  INCIDENT_DATE          199797 non-null  object\n",
      " 12  TOTAL_OFFENDER_COUNT   199797 non-null  int64 \n",
      " 13  OFFENDER_RACE          199797 non-null  object\n",
      " 14  VICTIM_COUNT           199797 non-null  int64 \n",
      " 15  OFFENSE_NAME           199797 non-null  object\n",
      " 16  LOCATION_NAME          199797 non-null  object\n",
      " 17  BIAS_DESC              199797 non-null  object\n",
      " 18  VICTIM_TYPES           199797 non-null  object\n",
      " 19  MULTIPLE_OFFENSE       199797 non-null  object\n",
      " 20  MULTIPLE_BIAS          199797 non-null  object\n",
      "dtypes: int64(4), object(17)\n",
      "memory usage: 32.0+ MB\n"
     ]
    }
   ],
   "source": [
    "#Check df\n",
    "df.info()"
   ]
  },
  {
   "cell_type": "code",
   "execution_count": 7,
   "metadata": {},
   "outputs": [
    {
     "data": {
      "text/html": [
       "<div>\n",
       "<style scoped>\n",
       "    .dataframe tbody tr th:only-of-type {\n",
       "        vertical-align: middle;\n",
       "    }\n",
       "\n",
       "    .dataframe tbody tr th {\n",
       "        vertical-align: top;\n",
       "    }\n",
       "\n",
       "    .dataframe thead th {\n",
       "        text-align: right;\n",
       "    }\n",
       "</style>\n",
       "<table border=\"1\" class=\"dataframe\">\n",
       "  <thead>\n",
       "    <tr style=\"text-align: right;\">\n",
       "      <th></th>\n",
       "      <th>INCIDENT_ID</th>\n",
       "      <th>DATA_YEAR</th>\n",
       "      <th>ORI</th>\n",
       "      <th>PUB_AGENCY_NAME</th>\n",
       "      <th>AGENCY_TYPE_NAME</th>\n",
       "      <th>STATE_ABBR</th>\n",
       "      <th>STATE_NAME</th>\n",
       "      <th>DIVISION_NAME</th>\n",
       "      <th>REGION_NAME</th>\n",
       "      <th>POPULATION_GROUP_CODE</th>\n",
       "      <th>...</th>\n",
       "      <th>INCIDENT_DATE</th>\n",
       "      <th>TOTAL_OFFENDER_COUNT</th>\n",
       "      <th>OFFENDER_RACE</th>\n",
       "      <th>VICTIM_COUNT</th>\n",
       "      <th>OFFENSE_NAME</th>\n",
       "      <th>LOCATION_NAME</th>\n",
       "      <th>BIAS_DESC</th>\n",
       "      <th>VICTIM_TYPES</th>\n",
       "      <th>MULTIPLE_OFFENSE</th>\n",
       "      <th>MULTIPLE_BIAS</th>\n",
       "    </tr>\n",
       "  </thead>\n",
       "  <tbody>\n",
       "    <tr>\n",
       "      <th>0</th>\n",
       "      <td>3015</td>\n",
       "      <td>1991</td>\n",
       "      <td>AR0040200</td>\n",
       "      <td>Rogers</td>\n",
       "      <td>City</td>\n",
       "      <td>AR</td>\n",
       "      <td>Arkansas</td>\n",
       "      <td>West South Central</td>\n",
       "      <td>South</td>\n",
       "      <td>5</td>\n",
       "      <td>...</td>\n",
       "      <td>8/31/1991</td>\n",
       "      <td>1</td>\n",
       "      <td>White</td>\n",
       "      <td>1</td>\n",
       "      <td>Intimidation</td>\n",
       "      <td>Highway/Road/Alley/Street/Sidewalk</td>\n",
       "      <td>Anti-Black or African American</td>\n",
       "      <td>Individual</td>\n",
       "      <td>S</td>\n",
       "      <td>S</td>\n",
       "    </tr>\n",
       "    <tr>\n",
       "      <th>1</th>\n",
       "      <td>3016</td>\n",
       "      <td>1991</td>\n",
       "      <td>AR0290100</td>\n",
       "      <td>Hope</td>\n",
       "      <td>City</td>\n",
       "      <td>AR</td>\n",
       "      <td>Arkansas</td>\n",
       "      <td>West South Central</td>\n",
       "      <td>South</td>\n",
       "      <td>6</td>\n",
       "      <td>...</td>\n",
       "      <td>9/19/1991</td>\n",
       "      <td>1</td>\n",
       "      <td>Black or African American</td>\n",
       "      <td>1</td>\n",
       "      <td>Simple Assault</td>\n",
       "      <td>Highway/Road/Alley/Street/Sidewalk</td>\n",
       "      <td>Anti-White</td>\n",
       "      <td>Individual</td>\n",
       "      <td>S</td>\n",
       "      <td>S</td>\n",
       "    </tr>\n",
       "    <tr>\n",
       "      <th>2</th>\n",
       "      <td>43</td>\n",
       "      <td>1991</td>\n",
       "      <td>AR0350100</td>\n",
       "      <td>Pine Bluff</td>\n",
       "      <td>City</td>\n",
       "      <td>AR</td>\n",
       "      <td>Arkansas</td>\n",
       "      <td>West South Central</td>\n",
       "      <td>South</td>\n",
       "      <td>3</td>\n",
       "      <td>...</td>\n",
       "      <td>7/4/1991</td>\n",
       "      <td>1</td>\n",
       "      <td>Black or African American</td>\n",
       "      <td>1</td>\n",
       "      <td>Aggravated Assault</td>\n",
       "      <td>Residence/Home</td>\n",
       "      <td>Anti-Black or African American</td>\n",
       "      <td>Individual</td>\n",
       "      <td>S</td>\n",
       "      <td>S</td>\n",
       "    </tr>\n",
       "    <tr>\n",
       "      <th>3</th>\n",
       "      <td>44</td>\n",
       "      <td>1991</td>\n",
       "      <td>AR0350100</td>\n",
       "      <td>Pine Bluff</td>\n",
       "      <td>City</td>\n",
       "      <td>AR</td>\n",
       "      <td>Arkansas</td>\n",
       "      <td>West South Central</td>\n",
       "      <td>South</td>\n",
       "      <td>3</td>\n",
       "      <td>...</td>\n",
       "      <td>12/24/1991</td>\n",
       "      <td>1</td>\n",
       "      <td>Black or African American</td>\n",
       "      <td>2</td>\n",
       "      <td>Aggravated Assault;Destruction/Damage/Vandalis...</td>\n",
       "      <td>Highway/Road/Alley/Street/Sidewalk</td>\n",
       "      <td>Anti-White</td>\n",
       "      <td>Individual</td>\n",
       "      <td>M</td>\n",
       "      <td>S</td>\n",
       "    </tr>\n",
       "    <tr>\n",
       "      <th>4</th>\n",
       "      <td>3017</td>\n",
       "      <td>1991</td>\n",
       "      <td>AR0350100</td>\n",
       "      <td>Pine Bluff</td>\n",
       "      <td>City</td>\n",
       "      <td>AR</td>\n",
       "      <td>Arkansas</td>\n",
       "      <td>West South Central</td>\n",
       "      <td>South</td>\n",
       "      <td>3</td>\n",
       "      <td>...</td>\n",
       "      <td>12/23/1991</td>\n",
       "      <td>1</td>\n",
       "      <td>Black or African American</td>\n",
       "      <td>1</td>\n",
       "      <td>Aggravated Assault</td>\n",
       "      <td>Service/Gas Station</td>\n",
       "      <td>Anti-White</td>\n",
       "      <td>Individual</td>\n",
       "      <td>S</td>\n",
       "      <td>S</td>\n",
       "    </tr>\n",
       "  </tbody>\n",
       "</table>\n",
       "<p>5 rows × 21 columns</p>\n",
       "</div>"
      ],
      "text/plain": [
       "   INCIDENT_ID  DATA_YEAR        ORI PUB_AGENCY_NAME AGENCY_TYPE_NAME  \\\n",
       "0         3015       1991  AR0040200          Rogers             City   \n",
       "1         3016       1991  AR0290100            Hope             City   \n",
       "2           43       1991  AR0350100      Pine Bluff             City   \n",
       "3           44       1991  AR0350100      Pine Bluff             City   \n",
       "4         3017       1991  AR0350100      Pine Bluff             City   \n",
       "\n",
       "  STATE_ABBR STATE_NAME       DIVISION_NAME REGION_NAME POPULATION_GROUP_CODE  \\\n",
       "0         AR   Arkansas  West South Central       South                     5   \n",
       "1         AR   Arkansas  West South Central       South                     6   \n",
       "2         AR   Arkansas  West South Central       South                     3   \n",
       "3         AR   Arkansas  West South Central       South                     3   \n",
       "4         AR   Arkansas  West South Central       South                     3   \n",
       "\n",
       "   ... INCIDENT_DATE TOTAL_OFFENDER_COUNT              OFFENDER_RACE  \\\n",
       "0  ...     8/31/1991                    1                      White   \n",
       "1  ...     9/19/1991                    1  Black or African American   \n",
       "2  ...      7/4/1991                    1  Black or African American   \n",
       "3  ...    12/24/1991                    1  Black or African American   \n",
       "4  ...    12/23/1991                    1  Black or African American   \n",
       "\n",
       "  VICTIM_COUNT                                       OFFENSE_NAME  \\\n",
       "0            1                                       Intimidation   \n",
       "1            1                                     Simple Assault   \n",
       "2            1                                 Aggravated Assault   \n",
       "3            2  Aggravated Assault;Destruction/Damage/Vandalis...   \n",
       "4            1                                 Aggravated Assault   \n",
       "\n",
       "                        LOCATION_NAME                       BIAS_DESC  \\\n",
       "0  Highway/Road/Alley/Street/Sidewalk  Anti-Black or African American   \n",
       "1  Highway/Road/Alley/Street/Sidewalk                      Anti-White   \n",
       "2                      Residence/Home  Anti-Black or African American   \n",
       "3  Highway/Road/Alley/Street/Sidewalk                      Anti-White   \n",
       "4                 Service/Gas Station                      Anti-White   \n",
       "\n",
       "  VICTIM_TYPES MULTIPLE_OFFENSE MULTIPLE_BIAS  \n",
       "0   Individual                S             S  \n",
       "1   Individual                S             S  \n",
       "2   Individual                S             S  \n",
       "3   Individual                M             S  \n",
       "4   Individual                S             S  \n",
       "\n",
       "[5 rows x 21 columns]"
      ]
     },
     "execution_count": 7,
     "metadata": {},
     "output_type": "execute_result"
    }
   ],
   "source": [
    "df.head()"
   ]
  },
  {
   "cell_type": "code",
   "execution_count": 8,
   "metadata": {},
   "outputs": [
    {
     "data": {
      "text/plain": [
       "Index(['INCIDENT_ID', 'DATA_YEAR', 'ORI', 'PUB_AGENCY_NAME',\n",
       "       'AGENCY_TYPE_NAME', 'STATE_ABBR', 'STATE_NAME', 'DIVISION_NAME',\n",
       "       'REGION_NAME', 'POPULATION_GROUP_CODE', 'POPULATION_GROUP_DESC',\n",
       "       'INCIDENT_DATE', 'TOTAL_OFFENDER_COUNT', 'OFFENDER_RACE',\n",
       "       'VICTIM_COUNT', 'OFFENSE_NAME', 'LOCATION_NAME', 'BIAS_DESC',\n",
       "       'VICTIM_TYPES', 'MULTIPLE_OFFENSE', 'MULTIPLE_BIAS'],\n",
       "      dtype='object')"
      ]
     },
     "execution_count": 8,
     "metadata": {},
     "output_type": "execute_result"
    }
   ],
   "source": [
    "# Get column names\n",
    "df.columns"
   ]
  },
  {
   "cell_type": "code",
   "execution_count": 9,
   "metadata": {},
   "outputs": [],
   "source": [
    "# Create subset excluding categorical variables\n",
    "sub = df[['TOTAL_OFFENDER_COUNT', 'VICTIM_COUNT']]"
   ]
  },
  {
   "cell_type": "code",
   "execution_count": 10,
   "metadata": {},
   "outputs": [
    {
     "data": {
      "text/html": [
       "<div>\n",
       "<style scoped>\n",
       "    .dataframe tbody tr th:only-of-type {\n",
       "        vertical-align: middle;\n",
       "    }\n",
       "\n",
       "    .dataframe tbody tr th {\n",
       "        vertical-align: top;\n",
       "    }\n",
       "\n",
       "    .dataframe thead th {\n",
       "        text-align: right;\n",
       "    }\n",
       "</style>\n",
       "<table border=\"1\" class=\"dataframe\">\n",
       "  <thead>\n",
       "    <tr style=\"text-align: right;\">\n",
       "      <th></th>\n",
       "      <th>TOTAL_OFFENDER_COUNT</th>\n",
       "      <th>VICTIM_COUNT</th>\n",
       "    </tr>\n",
       "  </thead>\n",
       "  <tbody>\n",
       "    <tr>\n",
       "      <th>TOTAL_OFFENDER_COUNT</th>\n",
       "      <td>1.000000</td>\n",
       "      <td>0.115758</td>\n",
       "    </tr>\n",
       "    <tr>\n",
       "      <th>VICTIM_COUNT</th>\n",
       "      <td>0.115758</td>\n",
       "      <td>1.000000</td>\n",
       "    </tr>\n",
       "  </tbody>\n",
       "</table>\n",
       "</div>"
      ],
      "text/plain": [
       "                      TOTAL_OFFENDER_COUNT  VICTIM_COUNT\n",
       "TOTAL_OFFENDER_COUNT              1.000000      0.115758\n",
       "VICTIM_COUNT                      0.115758      1.000000"
      ]
     },
     "execution_count": 10,
     "metadata": {},
     "output_type": "execute_result"
    }
   ],
   "source": [
    "# Create a correlation matrix using pandas\n",
    "sub.corr()"
   ]
  },
  {
   "cell_type": "code",
   "execution_count": 11,
   "metadata": {},
   "outputs": [
    {
     "data": {
      "text/plain": [
       "(199797, 2)"
      ]
     },
     "execution_count": 11,
     "metadata": {},
     "output_type": "execute_result"
    }
   ],
   "source": [
    "# check subset\n",
    "sub.shape"
   ]
  },
  {
   "cell_type": "code",
   "execution_count": 12,
   "metadata": {},
   "outputs": [
    {
     "data": {
      "image/png": "[encoded data removed]",
      "text/plain": [
       "<Figure size 288x288 with 1 Axes>"
      ]
     },
     "metadata": {
      "needs_background": "light"
     },
     "output_type": "display_data"
    }
   ],
   "source": [
    "# Create a correlation heatmap using matplotlib\n",
    "plt.matshow(sub.corr())\n",
    "plt.show()"
   ]
  },
  {
   "cell_type": "code",
   "execution_count": 14,
   "metadata": {},
   "outputs": [
    {
     "data": {
      "text/plain": [
       "Text(0.5, 2.3, 'Correlation Matrix')"
      ]
     },
     "execution_count": 14,
     "metadata": {},
     "output_type": "execute_result"
    },
    {
     "data": {
      "image/png": "[encoded data removed]",
      "text/plain": [
       "<Figure size 216x216 with 2 Axes>"
      ]
     },
     "metadata": {
      "needs_background": "light"
     },
     "output_type": "display_data"
    }
   ],
   "source": [
    "# Add labels, a legend and change the size of heatmap\n",
    "\n",
    "f = plt.figure(figsize=(3, 3)) # figure size \n",
    "plt.matshow(sub.corr(), fignum=f.number) # type of plot\n",
    "plt.xticks(range(sub.shape[1]), sub.columns, fontsize=12, rotation = 90) # x axis labels\n",
    "plt.yticks(range(sub.shape[1]), sub.columns, fontsize=12) # y axis labels\n",
    "cb = plt.colorbar() # add a colour legend (called colorbar)\n",
    "cb.ax.tick_params(labelsize=14) # add font size\n",
    "plt.title('Correlation Matrix', fontsize=14, y=2.3) # add title"
   ]
  },
  {
   "cell_type": "code",
   "execution_count": 15,
   "metadata": {},
   "outputs": [
    {
     "data": {
      "image/png": "[encoded data removed]",
      "text/plain": [
       "<Figure size 288x288 with 2 Axes>"
      ]
     },
     "metadata": {
      "needs_background": "light"
     },
     "output_type": "display_data"
    }
   ],
   "source": [
    "# creating subplot with matplotlib\n",
    "f,ax = plt.subplots(figsize=(4,4))\n",
    "\n",
    "# corelation heatmap in seaborn\n",
    "corr = sns.heatmap(sub.corr(), annot = True, ax = ax)"
   ]
  },
  {
   "cell_type": "markdown",
   "metadata": {},
   "source": [
    "#### There is weak correlation between the two variables meaning that there is likely no relationship between the number of offenders and the number of victims. "
   ]
  },
  {
   "cell_type": "code",
   "execution_count": 16,
   "metadata": {},
   "outputs": [
    {
     "data": {
      "text/plain": [
       "<seaborn.axisgrid.FacetGrid at 0x26b58d17d30>"
      ]
     },
     "execution_count": 16,
     "metadata": {},
     "output_type": "execute_result"
    },
    {
     "data": {
      "image/png": "[encoded data removed]",
      "text/plain": [
       "<Figure size 360x360 with 1 Axes>"
      ]
     },
     "metadata": {
      "needs_background": "light"
     },
     "output_type": "display_data"
    }
   ],
   "source": [
    "# Scatterplot for the \"TOTAL_OFFENDER_COUNT\" and the \"VICTIM_COUNT\"\n",
    "sns.lmplot(x='TOTAL_OFFENDER_COUNT', y ='VICTIM_COUNT', data = df)"
   ]
  },
  {
   "cell_type": "markdown",
   "metadata": {},
   "source": [
    "#### There is an upward trend to the line. Majority of the points are clustered at the beginning. Most points are close to the line with a few outliers. Based on this scatterplot, there seems to be a positive relationship, thoughyy it is weak."
   ]
  },
  {
   "cell_type": "code",
   "execution_count": 18,
   "metadata": {},
   "outputs": [
    {
     "data": {
      "text/plain": [
       "Index(['TOTAL_OFFENDER_COUNT', 'VICTIM_COUNT'], dtype='object')"
      ]
     },
     "execution_count": 18,
     "metadata": {},
     "output_type": "execute_result"
    }
   ],
   "source": [
    "# Double check variables to be used in pair plot\n",
    "sub.columns"
   ]
  },
  {
   "cell_type": "code",
   "execution_count": 19,
   "metadata": {},
   "outputs": [
    {
     "data": {
      "image/png": "[encoded data removed]",
      "text/plain": [
       "<Figure size 360x360 with 6 Axes>"
      ]
     },
     "metadata": {
      "needs_background": "light"
     },
     "output_type": "display_data"
    }
   ],
   "source": [
    "# Create pair plot\n",
    "g = sns.pairplot(sub)"
   ]
  },
  {
   "cell_type": "markdown",
   "metadata": {},
   "source": [
    "#### As discovered earlier, there is weak correlation"
   ]
  },
  {
   "cell_type": "code",
   "execution_count": 21,
   "metadata": {},
   "outputs": [
    {
     "data": {
      "text/plain": [
       "<matplotlib.axes._subplots.AxesSubplot at 0x26b5931ffa0>"
      ]
     },
     "execution_count": 21,
     "metadata": {},
     "output_type": "execute_result"
    },
    {
     "data": {
      "image/png": "[encoded data removed]",
      "text/plain": [
       "<Figure size 432x288 with 1 Axes>"
      ]
     },
     "metadata": {
      "needs_background": "light"
     },
     "output_type": "display_data"
    }
   ],
   "source": [
    "# Create a categorical plot splitting total offender count into categories\n",
    "sns.distplot(df['TOTAL_OFFENDER_COUNT'], bins = 50, kde = True)"
   ]
  },
  {
   "cell_type": "code",
   "execution_count": 27,
   "metadata": {},
   "outputs": [],
   "source": [
    "# Create categories\n",
    "df.loc[df['TOTAL_OFFENDER_COUNT'] ==1, 'Offender Count Category'] = 'Single Offender'"
   ]
  },
  {
   "cell_type": "code",
   "execution_count": 28,
   "metadata": {},
   "outputs": [],
   "source": [
    "df.loc[df['TOTAL_OFFENDER_COUNT'] == 2, 'Offender Count Category'] = 'Paired Offense'"
   ]
  },
  {
   "cell_type": "code",
   "execution_count": 26,
   "metadata": {},
   "outputs": [],
   "source": [
    "df.loc[(df['TOTAL_OFFENDER_COUNT'] > 2) & (df['TOTAL_OFFENDER_COUNT'] <=5),'Offender Count Category'] = 'Small Group Offense'"
   ]
  },
  {
   "cell_type": "code",
   "execution_count": 29,
   "metadata": {},
   "outputs": [],
   "source": [
    "df.loc[df['TOTAL_OFFENDER_COUNT'] > 5, 'Offender Count Category'] = 'Large Group Offense'"
   ]
  },
  {
   "cell_type": "code",
   "execution_count": 30,
   "metadata": {},
   "outputs": [
    {
     "data": {
      "text/plain": [
       "1     92126\n",
       "0     73732\n",
       "2     18809\n",
       "3      8049\n",
       "4      3422\n",
       "5      1638\n",
       "6       777\n",
       "7       296\n",
       "8       254\n",
       "10      208\n",
       "9       110\n",
       "15      104\n",
       "12       69\n",
       "20       52\n",
       "11       49\n",
       "30       21\n",
       "13       21\n",
       "25       12\n",
       "16       10\n",
       "50        8\n",
       "14        8\n",
       "18        5\n",
       "22        4\n",
       "35        2\n",
       "40        2\n",
       "17        2\n",
       "99        2\n",
       "23        1\n",
       "21        1\n",
       "26        1\n",
       "29        1\n",
       "75        1\n",
       "Name: TOTAL_OFFENDER_COUNT, dtype: int64"
      ]
     },
     "execution_count": 30,
     "metadata": {},
     "output_type": "execute_result"
    }
   ],
   "source": [
    "df['TOTAL_OFFENDER_COUNT'].value_counts(dropna = False)"
   ]
  },
  {
   "cell_type": "code",
   "execution_count": 31,
   "metadata": {},
   "outputs": [
    {
     "data": {
      "text/plain": [
       "Index(['INCIDENT_ID', 'DATA_YEAR', 'ORI', 'PUB_AGENCY_NAME',\n",
       "       'AGENCY_TYPE_NAME', 'STATE_ABBR', 'STATE_NAME', 'DIVISION_NAME',\n",
       "       'REGION_NAME', 'POPULATION_GROUP_CODE', 'POPULATION_GROUP_DESC',\n",
       "       'INCIDENT_DATE', 'TOTAL_OFFENDER_COUNT', 'OFFENDER_RACE',\n",
       "       'VICTIM_COUNT', 'OFFENSE_NAME', 'LOCATION_NAME', 'BIAS_DESC',\n",
       "       'VICTIM_TYPES', 'MULTIPLE_OFFENSE', 'MULTIPLE_BIAS',\n",
       "       'Offender Count Category'],\n",
       "      dtype='object')"
      ]
     },
     "execution_count": 31,
     "metadata": {},
     "output_type": "execute_result"
    }
   ],
   "source": [
    "# Confirm new category column\n",
    "df.columns"
   ]
  },
  {
   "cell_type": "code",
   "execution_count": 32,
   "metadata": {},
   "outputs": [
    {
     "data": {
      "text/html": [
       "<div>\n",
       "<style scoped>\n",
       "    .dataframe tbody tr th:only-of-type {\n",
       "        vertical-align: middle;\n",
       "    }\n",
       "\n",
       "    .dataframe tbody tr th {\n",
       "        vertical-align: top;\n",
       "    }\n",
       "\n",
       "    .dataframe thead th {\n",
       "        text-align: right;\n",
       "    }\n",
       "</style>\n",
       "<table border=\"1\" class=\"dataframe\">\n",
       "  <thead>\n",
       "    <tr style=\"text-align: right;\">\n",
       "      <th></th>\n",
       "      <th>INCIDENT_ID</th>\n",
       "      <th>DATA_YEAR</th>\n",
       "      <th>ORI</th>\n",
       "      <th>PUB_AGENCY_NAME</th>\n",
       "      <th>AGENCY_TYPE_NAME</th>\n",
       "      <th>STATE_ABBR</th>\n",
       "      <th>STATE_NAME</th>\n",
       "      <th>DIVISION_NAME</th>\n",
       "      <th>REGION_NAME</th>\n",
       "      <th>POPULATION_GROUP_CODE</th>\n",
       "      <th>...</th>\n",
       "      <th>TOTAL_OFFENDER_COUNT</th>\n",
       "      <th>OFFENDER_RACE</th>\n",
       "      <th>VICTIM_COUNT</th>\n",
       "      <th>OFFENSE_NAME</th>\n",
       "      <th>LOCATION_NAME</th>\n",
       "      <th>BIAS_DESC</th>\n",
       "      <th>VICTIM_TYPES</th>\n",
       "      <th>MULTIPLE_OFFENSE</th>\n",
       "      <th>MULTIPLE_BIAS</th>\n",
       "      <th>Offender Count Category</th>\n",
       "    </tr>\n",
       "  </thead>\n",
       "  <tbody>\n",
       "    <tr>\n",
       "      <th>0</th>\n",
       "      <td>3015</td>\n",
       "      <td>1991</td>\n",
       "      <td>AR0040200</td>\n",
       "      <td>Rogers</td>\n",
       "      <td>City</td>\n",
       "      <td>AR</td>\n",
       "      <td>Arkansas</td>\n",
       "      <td>West South Central</td>\n",
       "      <td>South</td>\n",
       "      <td>5</td>\n",
       "      <td>...</td>\n",
       "      <td>1</td>\n",
       "      <td>White</td>\n",
       "      <td>1</td>\n",
       "      <td>Intimidation</td>\n",
       "      <td>Highway/Road/Alley/Street/Sidewalk</td>\n",
       "      <td>Anti-Black or African American</td>\n",
       "      <td>Individual</td>\n",
       "      <td>S</td>\n",
       "      <td>S</td>\n",
       "      <td>Single Offender</td>\n",
       "    </tr>\n",
       "    <tr>\n",
       "      <th>1</th>\n",
       "      <td>3016</td>\n",
       "      <td>1991</td>\n",
       "      <td>AR0290100</td>\n",
       "      <td>Hope</td>\n",
       "      <td>City</td>\n",
       "      <td>AR</td>\n",
       "      <td>Arkansas</td>\n",
       "      <td>West South Central</td>\n",
       "      <td>South</td>\n",
       "      <td>6</td>\n",
       "      <td>...</td>\n",
       "      <td>1</td>\n",
       "      <td>Black or African American</td>\n",
       "      <td>1</td>\n",
       "      <td>Simple Assault</td>\n",
       "      <td>Highway/Road/Alley/Street/Sidewalk</td>\n",
       "      <td>Anti-White</td>\n",
       "      <td>Individual</td>\n",
       "      <td>S</td>\n",
       "      <td>S</td>\n",
       "      <td>Single Offender</td>\n",
       "    </tr>\n",
       "    <tr>\n",
       "      <th>2</th>\n",
       "      <td>43</td>\n",
       "      <td>1991</td>\n",
       "      <td>AR0350100</td>\n",
       "      <td>Pine Bluff</td>\n",
       "      <td>City</td>\n",
       "      <td>AR</td>\n",
       "      <td>Arkansas</td>\n",
       "      <td>West South Central</td>\n",
       "      <td>South</td>\n",
       "      <td>3</td>\n",
       "      <td>...</td>\n",
       "      <td>1</td>\n",
       "      <td>Black or African American</td>\n",
       "      <td>1</td>\n",
       "      <td>Aggravated Assault</td>\n",
       "      <td>Residence/Home</td>\n",
       "      <td>Anti-Black or African American</td>\n",
       "      <td>Individual</td>\n",
       "      <td>S</td>\n",
       "      <td>S</td>\n",
       "      <td>Single Offender</td>\n",
       "    </tr>\n",
       "    <tr>\n",
       "      <th>3</th>\n",
       "      <td>44</td>\n",
       "      <td>1991</td>\n",
       "      <td>AR0350100</td>\n",
       "      <td>Pine Bluff</td>\n",
       "      <td>City</td>\n",
       "      <td>AR</td>\n",
       "      <td>Arkansas</td>\n",
       "      <td>West South Central</td>\n",
       "      <td>South</td>\n",
       "      <td>3</td>\n",
       "      <td>...</td>\n",
       "      <td>1</td>\n",
       "      <td>Black or African American</td>\n",
       "      <td>2</td>\n",
       "      <td>Aggravated Assault;Destruction/Damage/Vandalis...</td>\n",
       "      <td>Highway/Road/Alley/Street/Sidewalk</td>\n",
       "      <td>Anti-White</td>\n",
       "      <td>Individual</td>\n",
       "      <td>M</td>\n",
       "      <td>S</td>\n",
       "      <td>Single Offender</td>\n",
       "    </tr>\n",
       "    <tr>\n",
       "      <th>4</th>\n",
       "      <td>3017</td>\n",
       "      <td>1991</td>\n",
       "      <td>AR0350100</td>\n",
       "      <td>Pine Bluff</td>\n",
       "      <td>City</td>\n",
       "      <td>AR</td>\n",
       "      <td>Arkansas</td>\n",
       "      <td>West South Central</td>\n",
       "      <td>South</td>\n",
       "      <td>3</td>\n",
       "      <td>...</td>\n",
       "      <td>1</td>\n",
       "      <td>Black or African American</td>\n",
       "      <td>1</td>\n",
       "      <td>Aggravated Assault</td>\n",
       "      <td>Service/Gas Station</td>\n",
       "      <td>Anti-White</td>\n",
       "      <td>Individual</td>\n",
       "      <td>S</td>\n",
       "      <td>S</td>\n",
       "      <td>Single Offender</td>\n",
       "    </tr>\n",
       "  </tbody>\n",
       "</table>\n",
       "<p>5 rows × 22 columns</p>\n",
       "</div>"
      ],
      "text/plain": [
       "   INCIDENT_ID  DATA_YEAR        ORI PUB_AGENCY_NAME AGENCY_TYPE_NAME  \\\n",
       "0         3015       1991  AR0040200          Rogers             City   \n",
       "1         3016       1991  AR0290100            Hope             City   \n",
       "2           43       1991  AR0350100      Pine Bluff             City   \n",
       "3           44       1991  AR0350100      Pine Bluff             City   \n",
       "4         3017       1991  AR0350100      Pine Bluff             City   \n",
       "\n",
       "  STATE_ABBR STATE_NAME       DIVISION_NAME REGION_NAME POPULATION_GROUP_CODE  \\\n",
       "0         AR   Arkansas  West South Central       South                     5   \n",
       "1         AR   Arkansas  West South Central       South                     6   \n",
       "2         AR   Arkansas  West South Central       South                     3   \n",
       "3         AR   Arkansas  West South Central       South                     3   \n",
       "4         AR   Arkansas  West South Central       South                     3   \n",
       "\n",
       "   ... TOTAL_OFFENDER_COUNT              OFFENDER_RACE  VICTIM_COUNT  \\\n",
       "0  ...                    1                      White             1   \n",
       "1  ...                    1  Black or African American             1   \n",
       "2  ...                    1  Black or African American             1   \n",
       "3  ...                    1  Black or African American             2   \n",
       "4  ...                    1  Black or African American             1   \n",
       "\n",
       "                                        OFFENSE_NAME  \\\n",
       "0                                       Intimidation   \n",
       "1                                     Simple Assault   \n",
       "2                                 Aggravated Assault   \n",
       "3  Aggravated Assault;Destruction/Damage/Vandalis...   \n",
       "4                                 Aggravated Assault   \n",
       "\n",
       "                        LOCATION_NAME                       BIAS_DESC  \\\n",
       "0  Highway/Road/Alley/Street/Sidewalk  Anti-Black or African American   \n",
       "1  Highway/Road/Alley/Street/Sidewalk                      Anti-White   \n",
       "2                      Residence/Home  Anti-Black or African American   \n",
       "3  Highway/Road/Alley/Street/Sidewalk                      Anti-White   \n",
       "4                 Service/Gas Station                      Anti-White   \n",
       "\n",
       "  VICTIM_TYPES MULTIPLE_OFFENSE MULTIPLE_BIAS Offender Count Category  \n",
       "0   Individual                S             S         Single Offender  \n",
       "1   Individual                S             S         Single Offender  \n",
       "2   Individual                S             S         Single Offender  \n",
       "3   Individual                M             S         Single Offender  \n",
       "4   Individual                S             S         Single Offender  \n",
       "\n",
       "[5 rows x 22 columns]"
      ]
     },
     "execution_count": 32,
     "metadata": {},
     "output_type": "execute_result"
    }
   ],
   "source": [
    "df.head()"
   ]
  },
  {
   "cell_type": "code",
   "execution_count": 33,
   "metadata": {},
   "outputs": [
    {
     "data": {
      "image/png": "[encoded data removed]",
      "text/plain": [
       "<Figure size 502.8x360 with 1 Axes>"
      ]
     },
     "metadata": {},
     "output_type": "display_data"
    }
   ],
   "source": [
    "#Create categorical plot in seaborn using offender count category created above\n",
    "sns.set(style=\"ticks\")\n",
    "g = sns.catplot(x=\"TOTAL_OFFENDER_COUNT\", y=\"VICTIM_COUNT\", hue=\"Offender Count Category\", data=df)"
   ]
  },
  {
   "cell_type": "code",
   "execution_count": 34,
   "metadata": {},
   "outputs": [],
   "source": [
    "# Create victim count categories\n",
    "df.loc[df['VICTIM_COUNT'] < 2, 'Individual Victim Category'] = 'Low Victim Count'"
   ]
  },
  {
   "cell_type": "code",
   "execution_count": 35,
   "metadata": {},
   "outputs": [],
   "source": [
    "df.loc[(df['VICTIM_COUNT'] >= 2) & (df['VICTIM_COUNT'] < 10),'Individual Victim Category'] = 'Median Victim Count' "
   ]
  },
  {
   "cell_type": "code",
   "execution_count": 36,
   "metadata": {},
   "outputs": [],
   "source": [
    "df.loc[df['VICTIM_COUNT'] >= 10, 'Individual Victim Category'] = 'High Victim Count'"
   ]
  },
  {
   "cell_type": "code",
   "execution_count": 37,
   "metadata": {},
   "outputs": [
    {
     "data": {
      "image/png": "[encoded data removed]",
      "text/plain": [
       "<Figure size 506.925x360 with 1 Axes>"
      ]
     },
     "metadata": {},
     "output_type": "display_data"
    }
   ],
   "source": [
    "sns.set(style=\"ticks\")\n",
    "g = sns.catplot(x=\"TOTAL_OFFENDER_COUNT\", y=\"VICTIM_COUNT\", hue=\"Individual Victim Category\", data=df)"
   ]
  },
  {
   "cell_type": "markdown",
   "metadata": {},
   "source": [
    "###  QUESTIONS TO EXPLORE\n",
    "1. What type of hate crimes are more prevalent throughout 1991-2018. \n",
    "1a.\tAdditionally, consider comparison over 3 decades. 1991-1999, 2000-2009, and 2010-2018.\n",
    "2. \tHow has hate crime behaved over the years, an increase or decrease of incidence?\n",
    "3. \tWhich ethnic group was most affected by hate crimes, which was least affected?\n",
    "4.\tWhich states have the largest incidence of hate crime?\n",
    "5.\tWhat types of hate crime was most common?\n",
    "6. How many offenders are typically involved?\n"
   ]
  },
  {
   "cell_type": "markdown",
   "metadata": {},
   "source": [
    "### Possible Hypothesis\n",
    "From the results, I have not determined a good hypothesis as the relationship is weak. That being said we could look into as the amount of offenders increases, the victim count increses."
   ]
  },
  {
   "cell_type": "markdown",
   "metadata": {},
   "source": [
    "##### I am not exporting this data with the new categories as I am not certain if they are valuable to me yet. I will return to this notebook should I need decide to use these images. "
   ]
  }
 ],
 "metadata": {
  "kernelspec": {
   "display_name": "Python 3 (ipykernel)",
   "language": "python",
   "name": "python3"
  },
  "language_info": {
   "codemirror_mode": {
    "name": "ipython",
    "version": 3
   },
   "file_extension": ".py",
   "mimetype": "text/x-python",
   "name": "python",
   "nbconvert_exporter": "python",
   "pygments_lexer": "ipython3",
   "version": "3.12.4"
  }
 },
 "nbformat": 4,
 "nbformat_minor": 4
}
